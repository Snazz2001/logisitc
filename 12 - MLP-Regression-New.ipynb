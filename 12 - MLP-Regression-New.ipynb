{
  "nbformat": 4,
  "nbformat_minor": 0,
  "metadata": {
    "colab": {
      "provenance": []
    },
    "kernelspec": {
      "name": "python3",
      "display_name": "Python 3"
    },
    "language_info": {
      "name": "python"
    }
  },
  "cells": [
    {
      "cell_type": "code",
      "source": [
        "import torch\n",
        "import torch.nn as nn\n",
        "import torch.optim as optim\n",
        "import pandas as pd\n",
        "from sklearn.model_selection import train_test_split\n",
        "from sklearn.datasets import fetch_california_housing"
      ],
      "metadata": {
        "id": "PCloQdyjFLAF"
      },
      "execution_count": 1,
      "outputs": []
    },
    {
      "cell_type": "code",
      "source": [
        "boston = fetch_california_housing()\n",
        "df = pd.DataFrame(boston.data, columns = boston.feature_names).iloc[:,0:6]\n",
        "df['target'] = boston.target\n",
        "df"
      ],
      "metadata": {
        "colab": {
          "base_uri": "https://localhost:8080/",
          "height": 423
        },
        "id": "K4UafXpRF0Js",
        "outputId": "d768e063-751d-4bb0-fc9f-e9a91594facf"
      },
      "execution_count": 3,
      "outputs": [
        {
          "output_type": "execute_result",
          "data": {
            "text/plain": [
              "       MedInc  HouseAge  AveRooms  AveBedrms  Population  AveOccup  target\n",
              "0      8.3252      41.0  6.984127   1.023810       322.0  2.555556   4.526\n",
              "1      8.3014      21.0  6.238137   0.971880      2401.0  2.109842   3.585\n",
              "2      7.2574      52.0  8.288136   1.073446       496.0  2.802260   3.521\n",
              "3      5.6431      52.0  5.817352   1.073059       558.0  2.547945   3.413\n",
              "4      3.8462      52.0  6.281853   1.081081       565.0  2.181467   3.422\n",
              "...       ...       ...       ...        ...         ...       ...     ...\n",
              "20635  1.5603      25.0  5.045455   1.133333       845.0  2.560606   0.781\n",
              "20636  2.5568      18.0  6.114035   1.315789       356.0  3.122807   0.771\n",
              "20637  1.7000      17.0  5.205543   1.120092      1007.0  2.325635   0.923\n",
              "20638  1.8672      18.0  5.329513   1.171920       741.0  2.123209   0.847\n",
              "20639  2.3886      16.0  5.254717   1.162264      1387.0  2.616981   0.894\n",
              "\n",
              "[20640 rows x 7 columns]"
            ],
            "text/html": [
              "\n",
              "  <div id=\"df-ee216879-b1e7-426a-a541-fbecb6484a03\">\n",
              "    <div class=\"colab-df-container\">\n",
              "      <div>\n",
              "<style scoped>\n",
              "    .dataframe tbody tr th:only-of-type {\n",
              "        vertical-align: middle;\n",
              "    }\n",
              "\n",
              "    .dataframe tbody tr th {\n",
              "        vertical-align: top;\n",
              "    }\n",
              "\n",
              "    .dataframe thead th {\n",
              "        text-align: right;\n",
              "    }\n",
              "</style>\n",
              "<table border=\"1\" class=\"dataframe\">\n",
              "  <thead>\n",
              "    <tr style=\"text-align: right;\">\n",
              "      <th></th>\n",
              "      <th>MedInc</th>\n",
              "      <th>HouseAge</th>\n",
              "      <th>AveRooms</th>\n",
              "      <th>AveBedrms</th>\n",
              "      <th>Population</th>\n",
              "      <th>AveOccup</th>\n",
              "      <th>target</th>\n",
              "    </tr>\n",
              "  </thead>\n",
              "  <tbody>\n",
              "    <tr>\n",
              "      <th>0</th>\n",
              "      <td>8.3252</td>\n",
              "      <td>41.0</td>\n",
              "      <td>6.984127</td>\n",
              "      <td>1.023810</td>\n",
              "      <td>322.0</td>\n",
              "      <td>2.555556</td>\n",
              "      <td>4.526</td>\n",
              "    </tr>\n",
              "    <tr>\n",
              "      <th>1</th>\n",
              "      <td>8.3014</td>\n",
              "      <td>21.0</td>\n",
              "      <td>6.238137</td>\n",
              "      <td>0.971880</td>\n",
              "      <td>2401.0</td>\n",
              "      <td>2.109842</td>\n",
              "      <td>3.585</td>\n",
              "    </tr>\n",
              "    <tr>\n",
              "      <th>2</th>\n",
              "      <td>7.2574</td>\n",
              "      <td>52.0</td>\n",
              "      <td>8.288136</td>\n",
              "      <td>1.073446</td>\n",
              "      <td>496.0</td>\n",
              "      <td>2.802260</td>\n",
              "      <td>3.521</td>\n",
              "    </tr>\n",
              "    <tr>\n",
              "      <th>3</th>\n",
              "      <td>5.6431</td>\n",
              "      <td>52.0</td>\n",
              "      <td>5.817352</td>\n",
              "      <td>1.073059</td>\n",
              "      <td>558.0</td>\n",
              "      <td>2.547945</td>\n",
              "      <td>3.413</td>\n",
              "    </tr>\n",
              "    <tr>\n",
              "      <th>4</th>\n",
              "      <td>3.8462</td>\n",
              "      <td>52.0</td>\n",
              "      <td>6.281853</td>\n",
              "      <td>1.081081</td>\n",
              "      <td>565.0</td>\n",
              "      <td>2.181467</td>\n",
              "      <td>3.422</td>\n",
              "    </tr>\n",
              "    <tr>\n",
              "      <th>...</th>\n",
              "      <td>...</td>\n",
              "      <td>...</td>\n",
              "      <td>...</td>\n",
              "      <td>...</td>\n",
              "      <td>...</td>\n",
              "      <td>...</td>\n",
              "      <td>...</td>\n",
              "    </tr>\n",
              "    <tr>\n",
              "      <th>20635</th>\n",
              "      <td>1.5603</td>\n",
              "      <td>25.0</td>\n",
              "      <td>5.045455</td>\n",
              "      <td>1.133333</td>\n",
              "      <td>845.0</td>\n",
              "      <td>2.560606</td>\n",
              "      <td>0.781</td>\n",
              "    </tr>\n",
              "    <tr>\n",
              "      <th>20636</th>\n",
              "      <td>2.5568</td>\n",
              "      <td>18.0</td>\n",
              "      <td>6.114035</td>\n",
              "      <td>1.315789</td>\n",
              "      <td>356.0</td>\n",
              "      <td>3.122807</td>\n",
              "      <td>0.771</td>\n",
              "    </tr>\n",
              "    <tr>\n",
              "      <th>20637</th>\n",
              "      <td>1.7000</td>\n",
              "      <td>17.0</td>\n",
              "      <td>5.205543</td>\n",
              "      <td>1.120092</td>\n",
              "      <td>1007.0</td>\n",
              "      <td>2.325635</td>\n",
              "      <td>0.923</td>\n",
              "    </tr>\n",
              "    <tr>\n",
              "      <th>20638</th>\n",
              "      <td>1.8672</td>\n",
              "      <td>18.0</td>\n",
              "      <td>5.329513</td>\n",
              "      <td>1.171920</td>\n",
              "      <td>741.0</td>\n",
              "      <td>2.123209</td>\n",
              "      <td>0.847</td>\n",
              "    </tr>\n",
              "    <tr>\n",
              "      <th>20639</th>\n",
              "      <td>2.3886</td>\n",
              "      <td>16.0</td>\n",
              "      <td>5.254717</td>\n",
              "      <td>1.162264</td>\n",
              "      <td>1387.0</td>\n",
              "      <td>2.616981</td>\n",
              "      <td>0.894</td>\n",
              "    </tr>\n",
              "  </tbody>\n",
              "</table>\n",
              "<p>20640 rows × 7 columns</p>\n",
              "</div>\n",
              "      <button class=\"colab-df-convert\" onclick=\"convertToInteractive('df-ee216879-b1e7-426a-a541-fbecb6484a03')\"\n",
              "              title=\"Convert this dataframe to an interactive table.\"\n",
              "              style=\"display:none;\">\n",
              "        \n",
              "  <svg xmlns=\"http://www.w3.org/2000/svg\" height=\"24px\"viewBox=\"0 0 24 24\"\n",
              "       width=\"24px\">\n",
              "    <path d=\"M0 0h24v24H0V0z\" fill=\"none\"/>\n",
              "    <path d=\"M18.56 5.44l.94 2.06.94-2.06 2.06-.94-2.06-.94-.94-2.06-.94 2.06-2.06.94zm-11 1L8.5 8.5l.94-2.06 2.06-.94-2.06-.94L8.5 2.5l-.94 2.06-2.06.94zm10 10l.94 2.06.94-2.06 2.06-.94-2.06-.94-.94-2.06-.94 2.06-2.06.94z\"/><path d=\"M17.41 7.96l-1.37-1.37c-.4-.4-.92-.59-1.43-.59-.52 0-1.04.2-1.43.59L10.3 9.45l-7.72 7.72c-.78.78-.78 2.05 0 2.83L4 21.41c.39.39.9.59 1.41.59.51 0 1.02-.2 1.41-.59l7.78-7.78 2.81-2.81c.8-.78.8-2.07 0-2.86zM5.41 20L4 18.59l7.72-7.72 1.47 1.35L5.41 20z\"/>\n",
              "  </svg>\n",
              "      </button>\n",
              "      \n",
              "  <style>\n",
              "    .colab-df-container {\n",
              "      display:flex;\n",
              "      flex-wrap:wrap;\n",
              "      gap: 12px;\n",
              "    }\n",
              "\n",
              "    .colab-df-convert {\n",
              "      background-color: #E8F0FE;\n",
              "      border: none;\n",
              "      border-radius: 50%;\n",
              "      cursor: pointer;\n",
              "      display: none;\n",
              "      fill: #1967D2;\n",
              "      height: 32px;\n",
              "      padding: 0 0 0 0;\n",
              "      width: 32px;\n",
              "    }\n",
              "\n",
              "    .colab-df-convert:hover {\n",
              "      background-color: #E2EBFA;\n",
              "      box-shadow: 0px 1px 2px rgba(60, 64, 67, 0.3), 0px 1px 3px 1px rgba(60, 64, 67, 0.15);\n",
              "      fill: #174EA6;\n",
              "    }\n",
              "\n",
              "    [theme=dark] .colab-df-convert {\n",
              "      background-color: #3B4455;\n",
              "      fill: #D2E3FC;\n",
              "    }\n",
              "\n",
              "    [theme=dark] .colab-df-convert:hover {\n",
              "      background-color: #434B5C;\n",
              "      box-shadow: 0px 1px 3px 1px rgba(0, 0, 0, 0.15);\n",
              "      filter: drop-shadow(0px 1px 2px rgba(0, 0, 0, 0.3));\n",
              "      fill: #FFFFFF;\n",
              "    }\n",
              "  </style>\n",
              "\n",
              "      <script>\n",
              "        const buttonEl =\n",
              "          document.querySelector('#df-ee216879-b1e7-426a-a541-fbecb6484a03 button.colab-df-convert');\n",
              "        buttonEl.style.display =\n",
              "          google.colab.kernel.accessAllowed ? 'block' : 'none';\n",
              "\n",
              "        async function convertToInteractive(key) {\n",
              "          const element = document.querySelector('#df-ee216879-b1e7-426a-a541-fbecb6484a03');\n",
              "          const dataTable =\n",
              "            await google.colab.kernel.invokeFunction('convertToInteractive',\n",
              "                                                     [key], {});\n",
              "          if (!dataTable) return;\n",
              "\n",
              "          const docLinkHtml = 'Like what you see? Visit the ' +\n",
              "            '<a target=\"_blank\" href=https://colab.research.google.com/notebooks/data_table.ipynb>data table notebook</a>'\n",
              "            + ' to learn more about interactive tables.';\n",
              "          element.innerHTML = '';\n",
              "          dataTable['output_type'] = 'display_data';\n",
              "          await google.colab.output.renderOutput(dataTable, element);\n",
              "          const docLink = document.createElement('div');\n",
              "          docLink.innerHTML = docLinkHtml;\n",
              "          element.appendChild(docLink);\n",
              "        }\n",
              "      </script>\n",
              "    </div>\n",
              "  </div>\n",
              "  "
            ]
          },
          "metadata": {},
          "execution_count": 3
        }
      ]
    },
    {
      "cell_type": "code",
      "source": [
        "print(boston.DESCR)"
      ],
      "metadata": {
        "colab": {
          "base_uri": "https://localhost:8080/"
        },
        "id": "7iX8zrdZG10g",
        "outputId": "ffc9b112-7d99-4bbb-d2e4-140e21cb8821"
      },
      "execution_count": null,
      "outputs": [
        {
          "output_type": "stream",
          "name": "stdout",
          "text": [
            ".. _california_housing_dataset:\n",
            "\n",
            "California Housing dataset\n",
            "--------------------------\n",
            "\n",
            "**Data Set Characteristics:**\n",
            "\n",
            "    :Number of Instances: 20640\n",
            "\n",
            "    :Number of Attributes: 8 numeric, predictive attributes and the target\n",
            "\n",
            "    :Attribute Information:\n",
            "        - MedInc        median income in block group\n",
            "        - HouseAge      median house age in block group\n",
            "        - AveRooms      average number of rooms per household\n",
            "        - AveBedrms     average number of bedrooms per household\n",
            "        - Population    block group population\n",
            "        - AveOccup      average number of household members\n",
            "        - Latitude      block group latitude\n",
            "        - Longitude     block group longitude\n",
            "\n",
            "    :Missing Attribute Values: None\n",
            "\n",
            "This dataset was obtained from the StatLib repository.\n",
            "https://www.dcc.fc.up.pt/~ltorgo/Regression/cal_housing.html\n",
            "\n",
            "The target variable is the median house value for California districts,\n",
            "expressed in hundreds of thousands of dollars ($100,000).\n",
            "\n",
            "This dataset was derived from the 1990 U.S. census, using one row per census\n",
            "block group. A block group is the smallest geographical unit for which the U.S.\n",
            "Census Bureau publishes sample data (a block group typically has a population\n",
            "of 600 to 3,000 people).\n",
            "\n",
            "An household is a group of people residing within a home. Since the average\n",
            "number of rooms and bedrooms in this dataset are provided per household, these\n",
            "columns may take surpinsingly large values for block groups with few households\n",
            "and many empty houses, such as vacation resorts.\n",
            "\n",
            "It can be downloaded/loaded using the\n",
            ":func:`sklearn.datasets.fetch_california_housing` function.\n",
            "\n",
            ".. topic:: References\n",
            "\n",
            "    - Pace, R. Kelley and Ronald Barry, Sparse Spatial Autoregressions,\n",
            "      Statistics and Probability Letters, 33 (1997) 291-297\n",
            "\n"
          ]
        }
      ]
    },
    {
      "cell_type": "code",
      "source": [
        "X = df.iloc[:,0:6].values\n",
        "y = df.iloc[:,-1].values"
      ],
      "metadata": {
        "id": "d_JKTo8yHMA7"
      },
      "execution_count": 15,
      "outputs": []
    },
    {
      "cell_type": "code",
      "source": [
        "X_train, X_test, y_train, y_test = train_test_split(X,y,test_size = 0.2)"
      ],
      "metadata": {
        "id": "1rg0fDrpHWAU"
      },
      "execution_count": 16,
      "outputs": []
    },
    {
      "cell_type": "code",
      "source": [
        "X_train = torch.tensor(X_train).float()\n",
        "X_test = torch.tensor(X_test).float()\n",
        "y_train = torch.tensor(y_train).float().unsqueeze(1)\n",
        "y_test = torch.tensor(y_test).float().unsqueeze(1)   "
      ],
      "metadata": {
        "id": "L5a_5AWSHzfB"
      },
      "execution_count": 17,
      "outputs": []
    },
    {
      "cell_type": "code",
      "source": [
        "mean = X_train.mean(dim=0)\n",
        "std = X_train.std(dim=0)\n",
        "X_train = (X_train-mean)/std\n",
        "X_test = (X_test-mean)/std"
      ],
      "metadata": {
        "id": "uand3AAiJDvS"
      },
      "execution_count": 18,
      "outputs": []
    },
    {
      "cell_type": "markdown",
      "source": [
        "**Linear Regression Model**"
      ],
      "metadata": {
        "id": "b4M2nq56MAiD"
      }
    },
    {
      "cell_type": "code",
      "source": [
        "class LinearRegression(nn.Module):\n",
        "  def __init__(self,input_size,output_size):\n",
        "    super().__init__()\n",
        "    self.fc = nn.Linear(6,128,bias = True)  # Define the hidden layer\n",
        "    self.out = nn.Linear(128,1,bias = True)  # Define the output layer\n",
        "    self.relu = nn.ReLU()        # Define the activation function\n",
        "\n",
        "  def forward(self,x):\n",
        "    x = self.fc(x)\n",
        "    x = self.relu(x)\n",
        "    x = self.out(x)\n",
        "    return x"
      ],
      "metadata": {
        "id": "wWrar4sRMQRb"
      },
      "execution_count": 24,
      "outputs": []
    },
    {
      "cell_type": "code",
      "source": [
        "model = LinearRegression(input_size = X_train.shape[1],output_size=1)\n",
        "#X_train.shape[1]"
      ],
      "metadata": {
        "id": "6xPxyR4TQoVL"
      },
      "execution_count": 25,
      "outputs": []
    },
    {
      "cell_type": "code",
      "source": [
        "criterion = nn.MSELoss()  # nn.L1Loss\n",
        "optimizer = optim.SGD(model.parameters(),lr = 0.01)"
      ],
      "metadata": {
        "id": "n4HusE6yRFuw"
      },
      "execution_count": 26,
      "outputs": []
    },
    {
      "cell_type": "markdown",
      "source": [
        "**Training**"
      ],
      "metadata": {
        "id": "kc37Xs1J1k41"
      }
    },
    {
      "cell_type": "code",
      "source": [
        "losses = []\n",
        "num_epochs = 10000\n",
        "for epoch in range(num_epochs):\n",
        "  #Forward pass\n",
        "  y_pred = model(X_train)\n",
        "  loss = criterion(y_pred,y_train)\n",
        "\n",
        "  #Backward Pass\n",
        "  optimizer.zero_grad()\n",
        "  loss.backward()\n",
        "  optimizer.step()\n",
        "\n",
        "\n",
        "  if (epoch + 1) % 100 == 0:\n",
        "    print(f'Epoch [{epoch + 1}/10000], Loss: {loss.item(): .4f}')\n",
        "  losses.append(loss.item())"
      ],
      "metadata": {
        "colab": {
          "base_uri": "https://localhost:8080/"
        },
        "id": "ovRmbf42_ejd",
        "outputId": "edc04cd4-109e-4364-af55-b62863f298ad"
      },
      "execution_count": 28,
      "outputs": [
        {
          "output_type": "stream",
          "name": "stdout",
          "text": [
            "Epoch [100/100000], Loss:  0.5204\n",
            "Epoch [200/100000], Loss:  0.5171\n",
            "Epoch [300/100000], Loss:  0.5141\n",
            "Epoch [400/100000], Loss:  0.5113\n",
            "Epoch [500/100000], Loss:  0.5087\n",
            "Epoch [600/100000], Loss:  0.5063\n",
            "Epoch [700/100000], Loss:  0.5041\n",
            "Epoch [800/100000], Loss:  0.5020\n",
            "Epoch [900/100000], Loss:  0.5000\n",
            "Epoch [1000/100000], Loss:  0.4981\n",
            "Epoch [1100/100000], Loss:  0.4963\n",
            "Epoch [1200/100000], Loss:  0.4946\n",
            "Epoch [1300/100000], Loss:  0.4929\n",
            "Epoch [1400/100000], Loss:  0.4913\n",
            "Epoch [1500/100000], Loss:  0.4898\n",
            "Epoch [1600/100000], Loss:  0.4883\n",
            "Epoch [1700/100000], Loss:  0.4869\n",
            "Epoch [1800/100000], Loss:  0.4855\n",
            "Epoch [1900/100000], Loss:  0.4842\n",
            "Epoch [2000/100000], Loss:  0.4829\n",
            "Epoch [2100/100000], Loss:  0.4816\n",
            "Epoch [2200/100000], Loss:  0.4803\n",
            "Epoch [2300/100000], Loss:  0.4791\n",
            "Epoch [2400/100000], Loss:  0.4779\n",
            "Epoch [2500/100000], Loss:  0.4768\n",
            "Epoch [2600/100000], Loss:  0.4756\n",
            "Epoch [2700/100000], Loss:  0.4745\n",
            "Epoch [2800/100000], Loss:  0.4735\n",
            "Epoch [2900/100000], Loss:  0.4724\n",
            "Epoch [3000/100000], Loss:  0.4714\n",
            "Epoch [3100/100000], Loss:  0.4704\n",
            "Epoch [3200/100000], Loss:  0.4694\n",
            "Epoch [3300/100000], Loss:  0.4685\n",
            "Epoch [3400/100000], Loss:  0.4676\n",
            "Epoch [3500/100000], Loss:  0.4667\n",
            "Epoch [3600/100000], Loss:  0.4658\n",
            "Epoch [3700/100000], Loss:  0.4650\n",
            "Epoch [3800/100000], Loss:  0.4642\n",
            "Epoch [3900/100000], Loss:  0.4634\n",
            "Epoch [4000/100000], Loss:  0.4626\n",
            "Epoch [4100/100000], Loss:  0.4619\n",
            "Epoch [4200/100000], Loss:  0.4611\n",
            "Epoch [4300/100000], Loss:  0.4604\n",
            "Epoch [4400/100000], Loss:  0.4597\n",
            "Epoch [4500/100000], Loss:  0.4590\n",
            "Epoch [4600/100000], Loss:  0.4584\n",
            "Epoch [4700/100000], Loss:  0.4577\n",
            "Epoch [4800/100000], Loss:  0.4571\n",
            "Epoch [4900/100000], Loss:  0.4565\n",
            "Epoch [5000/100000], Loss:  0.4559\n",
            "Epoch [5100/100000], Loss:  0.4553\n",
            "Epoch [5200/100000], Loss:  0.4547\n",
            "Epoch [5300/100000], Loss:  0.4541\n",
            "Epoch [5400/100000], Loss:  0.4536\n",
            "Epoch [5500/100000], Loss:  0.4530\n",
            "Epoch [5600/100000], Loss:  0.4525\n",
            "Epoch [5700/100000], Loss:  0.4520\n",
            "Epoch [5800/100000], Loss:  0.4515\n",
            "Epoch [5900/100000], Loss:  0.4510\n",
            "Epoch [6000/100000], Loss:  0.4505\n",
            "Epoch [6100/100000], Loss:  0.4500\n",
            "Epoch [6200/100000], Loss:  0.4495\n",
            "Epoch [6300/100000], Loss:  0.4490\n",
            "Epoch [6400/100000], Loss:  0.4486\n",
            "Epoch [6500/100000], Loss:  0.4481\n",
            "Epoch [6600/100000], Loss:  0.4476\n",
            "Epoch [6700/100000], Loss:  0.4472\n",
            "Epoch [6800/100000], Loss:  0.4468\n",
            "Epoch [6900/100000], Loss:  0.4463\n",
            "Epoch [7000/100000], Loss:  0.4459\n",
            "Epoch [7100/100000], Loss:  0.4454\n",
            "Epoch [7200/100000], Loss:  0.4450\n",
            "Epoch [7300/100000], Loss:  0.4446\n",
            "Epoch [7400/100000], Loss:  0.4442\n",
            "Epoch [7500/100000], Loss:  0.4438\n",
            "Epoch [7600/100000], Loss:  0.4434\n",
            "Epoch [7700/100000], Loss:  0.4430\n",
            "Epoch [7800/100000], Loss:  0.4426\n",
            "Epoch [7900/100000], Loss:  0.4422\n",
            "Epoch [8000/100000], Loss:  0.4418\n",
            "Epoch [8100/100000], Loss:  0.4414\n",
            "Epoch [8200/100000], Loss:  0.4410\n",
            "Epoch [8300/100000], Loss:  0.4406\n",
            "Epoch [8400/100000], Loss:  0.4402\n",
            "Epoch [8500/100000], Loss:  0.4398\n",
            "Epoch [8600/100000], Loss:  0.4395\n",
            "Epoch [8700/100000], Loss:  0.4391\n",
            "Epoch [8800/100000], Loss:  0.4387\n",
            "Epoch [8900/100000], Loss:  0.4384\n",
            "Epoch [9000/100000], Loss:  0.4380\n",
            "Epoch [9100/100000], Loss:  0.4377\n",
            "Epoch [9200/100000], Loss:  0.4373\n",
            "Epoch [9300/100000], Loss:  0.4370\n",
            "Epoch [9400/100000], Loss:  0.4367\n",
            "Epoch [9500/100000], Loss:  0.4364\n",
            "Epoch [9600/100000], Loss:  0.4360\n",
            "Epoch [9700/100000], Loss:  0.4357\n",
            "Epoch [9800/100000], Loss:  0.4354\n",
            "Epoch [9900/100000], Loss:  0.4351\n",
            "Epoch [10000/100000], Loss:  0.4348\n"
          ]
        }
      ]
    },
    {
      "cell_type": "code",
      "source": [
        "import matplotlib.pyplot as plt\n",
        "plt.plot(range(10000),losses)\n",
        "plt.xlabel('Iteration')\n",
        "plt.ylabel('Loss')\n",
        "plt.title('Loss over itrations')\n",
        "plt.show()"
      ],
      "metadata": {
        "colab": {
          "base_uri": "https://localhost:8080/",
          "height": 295
        },
        "id": "AlkYNmVi_6mw",
        "outputId": "dc7898c7-f020-4ddd-a9c1-98294f42f276"
      },
      "execution_count": 29,
      "outputs": [
        {
          "output_type": "display_data",
          "data": {
            "text/plain": [
              "<Figure size 432x288 with 1 Axes>"
            ],
            "image/png": "[encoded data removed]"
          },
          "metadata": {
            "needs_background": "light"
          }
        }
      ]
    },
    {
      "cell_type": "markdown",
      "source": [
        "**Testing**"
      ],
      "metadata": {
        "id": "hjc8e31ZDHSV"
      }
    },
    {
      "cell_type": "code",
      "source": [
        "with torch.no_grad():\n",
        "  y_test_pred = model(X_test)\n",
        "  test_loss = criterion(y_test_pred,y_test)\n",
        "  print(f'Test Loss: {test_loss.item():.4f}')"
      ],
      "metadata": {
        "colab": {
          "base_uri": "https://localhost:8080/"
        },
        "id": "iFJKz5VqGYAS",
        "outputId": "2001344e-8142-4401-f221-6d9a0af1b5cc"
      },
      "execution_count": 30,
      "outputs": [
        {
          "output_type": "stream",
          "name": "stdout",
          "text": [
            "Test Loss: 0.4624\n"
          ]
        }
      ]
    },
    {
      "cell_type": "code",
      "source": [
        "mae = torch.abs(y_test_pred - y_test).mean()\n",
        "print('Mean Absolute Error:',mae.item())"
      ],
      "metadata": {
        "colab": {
          "base_uri": "https://localhost:8080/"
        },
        "id": "gKJkGACnH7cP",
        "outputId": "bea41d49-d032-4035-a76b-22fd11c013b1"
      },
      "execution_count": 31,
      "outputs": [
        {
          "output_type": "stream",
          "name": "stdout",
          "text": [
            "Mean Absolute Error: 0.4901909828186035\n"
          ]
        }
      ]
    },
    {
      "cell_type": "code",
      "source": [
        "def mean_absolute_percentage_error(y_true,y_prediction):\n",
        "  return 100 * torch.mean(torch.abs((y_true-y_prediction) / y_true))\n",
        "\n",
        "mape = mean_absolute_percentage_error(y_test,y_test_pred)\n",
        "print(mape)"
      ],
      "metadata": {
        "colab": {
          "base_uri": "https://localhost:8080/"
        },
        "id": "Qm_x9sa4IVxR",
        "outputId": "e8f0a3fb-9fb8-43b1-fe81-f21dc95a61fb"
      },
      "execution_count": 32,
      "outputs": [
        {
          "output_type": "stream",
          "name": "stdout",
          "text": [
            "tensor(29.8272)\n"
          ]
        }
      ]
    }
  ]
}